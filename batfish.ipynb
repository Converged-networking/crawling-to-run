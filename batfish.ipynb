{
 "cells": [
  {
   "cell_type": "code",
   "execution_count": null,
   "metadata": {},
   "outputs": [],
   "source": [
    "# Import packages\n",
    "%run startup.py\n",
    "bf = Session(host=\"localhost\")"
   ]
  },
  {
   "cell_type": "code",
   "execution_count": null,
   "metadata": {},
   "outputs": [],
   "source": [
    "# Assign a friendly name to your network and snapshot\n",
    "NETWORK_NAME = \"example_network\"\n",
    "SNAPSHOT_NAME = \"example_snapshot\"\n",
    "\n",
    "SNAPSHOT_PATH = \"ansible/playbooks/live/snapshot\"\n",
    "\n",
    "# Now create the network and initialize the snapshot\n",
    "bf.set_network(NETWORK_NAME)\n",
    "bf.init_snapshot(SNAPSHOT_PATH, name=SNAPSHOT_NAME, overwrite=True)"
   ]
  }
 ],
 "metadata": {
  "interpreter": {
   "hash": "e9477c70e93836e5ea2be3c35b5e0b9825e4a26be1a729e20f43881aef36d314"
  },
  "kernelspec": {
   "display_name": "Python 3.8.11 64-bit ('.venv': pipenv)",
   "language": "python",
   "name": "python3"
  },
  "language_info": {
   "name": "python",
   "version": "3.8.11"
  },
  "orig_nbformat": 4
 },
 "nbformat": 4,
 "nbformat_minor": 2
}
